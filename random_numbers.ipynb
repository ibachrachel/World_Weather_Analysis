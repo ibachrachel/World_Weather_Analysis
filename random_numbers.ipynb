{
 "cells": [
  {
   "cell_type": "code",
   "execution_count": 31,
   "id": "b1ef7ce0",
   "metadata": {},
   "outputs": [],
   "source": [
    "# Import the random module.\n",
    "import random"
   ]
  },
  {
   "cell_type": "code",
   "execution_count": 32,
   "id": "907d2e7f",
   "metadata": {},
   "outputs": [
    {
     "data": {
      "text/plain": [
       "29"
      ]
     },
     "execution_count": 32,
     "metadata": {},
     "output_type": "execute_result"
    }
   ],
   "source": [
    "random.randint(-90,90)"
   ]
  },
  {
   "cell_type": "code",
   "execution_count": 33,
   "id": "4e73b6dd",
   "metadata": {},
   "outputs": [
    {
     "data": {
      "text/plain": [
       "0.7873901832751059"
      ]
     },
     "execution_count": 33,
     "metadata": {},
     "output_type": "execute_result"
    }
   ],
   "source": [
    "random.random()"
   ]
  },
  {
   "cell_type": "code",
   "execution_count": 34,
   "id": "eb53d86b",
   "metadata": {},
   "outputs": [
    {
     "data": {
      "text/plain": [
       "8.89750794914452"
      ]
     },
     "execution_count": 34,
     "metadata": {},
     "output_type": "execute_result"
    }
   ],
   "source": [
    "random_number = random.randint(-90,89) + random.random()\n",
    "random_number"
   ]
  },
  {
   "cell_type": "code",
   "execution_count": 35,
   "id": "29ad8109",
   "metadata": {},
   "outputs": [],
   "source": [
    "x = 1\n",
    "latitudes = []\n",
    "while x < 11:\n",
    "    \n",
    "    random_lat = random.randint(-90, 89) + random.random()\n",
    "    latitudes.append(random_lat)\n",
    "    x += 1"
   ]
  },
  {
   "cell_type": "code",
   "execution_count": 42,
   "id": "990cb8d1",
   "metadata": {},
   "outputs": [
    {
     "data": {
      "text/plain": [
       "88"
      ]
     },
     "execution_count": 42,
     "metadata": {},
     "output_type": "execute_result"
    }
   ],
   "source": [
    "random.randrange(-90,90, step =1)"
   ]
  },
  {
   "cell_type": "code",
   "execution_count": 43,
   "id": "27adbb0a",
   "metadata": {},
   "outputs": [
    {
     "data": {
      "text/plain": [
       "57"
      ]
     },
     "execution_count": 43,
     "metadata": {},
     "output_type": "execute_result"
    }
   ],
   "source": [
    "random.randrange(-90,90, step=3)"
   ]
  },
  {
   "cell_type": "code",
   "execution_count": 44,
   "id": "70fd4a40",
   "metadata": {},
   "outputs": [
    {
     "data": {
      "text/plain": [
       "-81.9800466382849"
      ]
     },
     "execution_count": 44,
     "metadata": {},
     "output_type": "execute_result"
    }
   ],
   "source": [
    "random.uniform(-90,90)"
   ]
  },
  {
   "cell_type": "code",
   "execution_count": 45,
   "id": "b0815cf3",
   "metadata": {},
   "outputs": [],
   "source": [
    "#import the NumPy module.\n",
    "import numpy as np"
   ]
  },
  {
   "cell_type": "code",
   "execution_count": 46,
   "id": "6e4fe794",
   "metadata": {},
   "outputs": [
    {
     "data": {
      "text/plain": [
       "-8.138946801293798"
      ]
     },
     "execution_count": 46,
     "metadata": {},
     "output_type": "execute_result"
    }
   ],
   "source": [
    "np.random.uniform(-90.000, 90.000)"
   ]
  },
  {
   "cell_type": "code",
   "execution_count": 47,
   "id": "48f5db91",
   "metadata": {},
   "outputs": [
    {
     "data": {
      "text/plain": [
       "array([-89.765757  , -44.44637011,  32.39474538, -40.07100325,\n",
       "       -34.23348363,  46.47647964,  39.79125386, -31.8339211 ,\n",
       "       -21.99082805, -60.10454882,  59.7997159 ,  49.0585897 ,\n",
       "       -85.6565297 ,  52.22570896, -57.26359224, -71.59003088,\n",
       "       -25.15546258, -85.2416747 , -18.44204791,  38.26995164,\n",
       "        55.50894736,  85.79940767, -22.97553458, -49.05103114,\n",
       "         6.36466032, -49.85917281, -13.18798933, -72.80461842,\n",
       "        22.61073589,  48.55367368,  72.70945344,  52.43910506,\n",
       "        53.38407024,  66.59402517, -71.94159396, -55.14492696,\n",
       "         4.55842125,   2.3735328 , -32.71853414, -45.47897401,\n",
       "        -4.48446707,  49.21783474, -19.12517614,  31.13912884,\n",
       "        53.91184843, -61.41753521, -42.44718148, -80.92364433,\n",
       "        64.26933234,   4.93084927])"
      ]
     },
     "execution_count": 47,
     "metadata": {},
     "output_type": "execute_result"
    }
   ],
   "source": [
    "np.random.uniform(-90.000, 90.000, size=50)"
   ]
  },
  {
   "cell_type": "code",
   "execution_count": 48,
   "id": "fd432d2f",
   "metadata": {},
   "outputs": [],
   "source": [
    "# Import timeit.\n",
    "import timeit\n"
   ]
  },
  {
   "cell_type": "code",
   "execution_count": 30,
   "id": "604a267e",
   "metadata": {},
   "outputs": [
    {
     "name": "stdout",
     "output_type": "stream",
     "text": [
      "14.9 µs ± 490 ns per loop (mean ± std. dev. of 7 runs, 100000 loops each)\n"
     ]
    }
   ],
   "source": [
    "%timeit np.random.uniform(-90.000, 90.000, size=1500)"
   ]
  },
  {
   "cell_type": "code",
   "execution_count": 49,
   "id": "f7f1d30d",
   "metadata": {},
   "outputs": [
    {
     "name": "stdout",
     "output_type": "stream",
     "text": [
      "2.02 ms ± 147 µs per loop (mean ± std. dev. of 7 runs, 1000 loops each)\n"
     ]
    }
   ],
   "source": [
    "def latitudes(size):\n",
    "    latitudes = []\n",
    "    x = 0\n",
    "    while x < (size):\n",
    "        random_lat = random.randint(-90, 90) + random.random()\n",
    "        latitudes.append(random_lat)\n",
    "        x += 1\n",
    "    return latitudes\n",
    "# Call the function with 1500.\n",
    "%timeit latitudes(1500)"
   ]
  },
  {
   "cell_type": "code",
   "execution_count": null,
   "id": "085992f5",
   "metadata": {},
   "outputs": [],
   "source": []
  }
 ],
 "metadata": {
  "kernelspec": {
   "display_name": "PythonData",
   "language": "python",
   "name": "pythondata"
  },
  "language_info": {
   "codemirror_mode": {
    "name": "ipython",
    "version": 3
   },
   "file_extension": ".py",
   "mimetype": "text/x-python",
   "name": "python",
   "nbconvert_exporter": "python",
   "pygments_lexer": "ipython3",
   "version": "3.7.11"
  }
 },
 "nbformat": 4,
 "nbformat_minor": 5
}
